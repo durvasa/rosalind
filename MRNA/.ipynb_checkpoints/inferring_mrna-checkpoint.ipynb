{
 "cells": [
  {
   "cell_type": "markdown",
   "metadata": {},
   "source": [
    "# PROT: Translating RNA into Protein"
   ]
  },
  {
   "cell_type": "code",
   "execution_count": 2,
   "metadata": {
    "collapsed": true
   },
   "outputs": [],
   "source": [
    "codon_dict = {\n",
    "    'ATA':'I', 'ATC':'I', 'ATT':'I', 'ATG':'M',\n",
    "    'ACA':'T', 'ACC':'T', 'ACG':'T', 'ACT':'T',\n",
    "    'AAC':'N', 'AAT':'N', 'AAA':'K', 'AAG':'K',\n",
    "    'AGC':'S', 'AGT':'S', 'AGA':'R', 'AGG':'R',\n",
    "    'CTA':'L', 'CTC':'L', 'CTG':'L', 'CTT':'L',\n",
    "    'CCA':'P', 'CCC':'P', 'CCG':'P', 'CCT':'P',\n",
    "    'CAC':'H', 'CAT':'H', 'CAA':'Q', 'CAG':'Q',\n",
    "    'CGA':'R', 'CGC':'R', 'CGG':'R', 'CGT':'R',\n",
    "    'GTA':'V', 'GTC':'V', 'GTG':'V', 'GTT':'V',\n",
    "    'GCA':'A', 'GCC':'A', 'GCG':'A', 'GCT':'A',\n",
    "    'GAC':'D', 'GAT':'D', 'GAA':'E', 'GAG':'E',\n",
    "    'GGA':'G', 'GGC':'G', 'GGG':'G', 'GGT':'G',\n",
    "    'TCA':'S', 'TCC':'S', 'TCG':'S', 'TCT':'S',\n",
    "    'TTC':'F', 'TTT':'F', 'TTA':'L', 'TTG':'L',\n",
    "    'TAC':'Y', 'TAT':'Y', 'TAA':'stop', 'TAG':'stop',\n",
    "    'TGC':'C', 'TGT':'C', 'TGA':'stop', 'TGG':'W'}"
   ]
  },
  {
   "cell_type": "code",
   "execution_count": 9,
   "metadata": {
    "collapsed": true
   },
   "outputs": [],
   "source": [
    "s = 'MA'\n",
    "s = 'MLDVDGGGWRDVYEERHRHDMSIVVTNYNCPVWARKDHPELNYFFTGTGQQAGVNLEGCTMHVPKYEHKRGGQQMTDTTSDFMMCYEHYIMKHLSVAWNVDNQIYMTTNFMHTCEATMPQTIYQAQQSNFYEWYARPKMCAWNLLYNSWNLLMPMHMILNCICWFRMPVTAPRMRRSMVRHNNILPFKSVCEQDCMPHIVNMPSAWDMEYHGIYGNQDSWSTSDFKDEQVQHGYTDQYFCLAVACGPNPIPSKWAMLRWISAVGSSVQHHEIMMKGMQAHMMYRLTFYRKFDQMIIQHSAIYNKDIIQMDRANKETKWSVSMRDNTKATVHVTFQYHSSLGTHQGFMCTKAGADWQMCCLDVEQNMNQMPLHKWSNYPTVDTLRVMNIVHYWQITHALGLTPAESYGYTLAWWPPDRMCVNLLQVWTWQFMCGRGCEMGRELAQDPQDYDKQQFEVCVPGLGRQHECRYALCQIDWEDQLRSVKDYYHGHMMFDCGITGVATLMQCRSFEENAWVMEDYIQHLHWLKHHAWWDCRAFQVRRWQNLLMQQPLWLVEGDQNKPLANHVRCIYGLCECCRMWKWDWPTYCKHGECHEFYVMGIVKIRITMKESWNMTEAWWNFGILDYDEKKIHAWQVMRMMWGKLKDLDRVDTFSALKNVESYEGTYQGYKFVYKWVIADSEICWSCSAATGERRQARKEMNPYHLWVLQCAWCVTYNFISMGRPTIEIYIYIQCFIEKNKRGMDQPYGGFYHLPLTLAAECFHFASKKLHWQRPEETFIYSDLHHWGAQHHHHRILAAKHCLQTCDDIKIRYTHEHYPVTLCTNAKWENWLKYTPVIGHLFFETMLSQQWDENFIAIQVWFPALGYFLDLGSNCAEVAQIVSWIIDRWVLTMNTMLREYACYDNVQIMYIFPCHHFCIYKPKPFIIKAMIEVARQDVGNLKKPIQKGLYFRVWRVYQQTMIPMRACFRTFELRWFGINIKDWVFVNTQSRQFCFKVDY'"
   ]
  },
  {
   "cell_type": "code",
   "execution_count": 10,
   "metadata": {
    "collapsed": false
   },
   "outputs": [
    {
     "data": {
      "text/plain": [
       "{'A': ['GCA', 'GCG', 'GCT', 'GCC'],\n",
       " 'C': ['TGC', 'TGT'],\n",
       " 'D': ['GAT', 'GAC'],\n",
       " 'E': ['GAG', 'GAA'],\n",
       " 'F': ['TTC', 'TTT'],\n",
       " 'G': ['GGT', 'GGA', 'GGC', 'GGG'],\n",
       " 'H': ['CAC', 'CAT'],\n",
       " 'I': ['ATC', 'ATT', 'ATA'],\n",
       " 'K': ['AAG', 'AAA'],\n",
       " 'L': ['TTA', 'CTA', 'CTG', 'CTC', 'CTT', 'TTG'],\n",
       " 'M': ['ATG'],\n",
       " 'N': ['AAT', 'AAC'],\n",
       " 'P': ['CCT', 'CCG', 'CCA', 'CCC'],\n",
       " 'Q': ['CAG', 'CAA'],\n",
       " 'R': ['CGA', 'CGG', 'CGC', 'AGA', 'AGG', 'CGT'],\n",
       " 'S': ['TCA', 'AGT', 'TCC', 'TCG', 'TCT', 'AGC'],\n",
       " 'T': ['ACC', 'ACT', 'ACG', 'ACA'],\n",
       " 'V': ['GTA', 'GTT', 'GTG', 'GTC'],\n",
       " 'W': ['TGG'],\n",
       " 'Y': ['TAC', 'TAT'],\n",
       " 'stop': ['TAG', 'TAA', 'TGA']}"
      ]
     },
     "execution_count": 10,
     "metadata": {},
     "output_type": "execute_result"
    }
   ],
   "source": [
    "inv_codon_dict = {}\n",
    "for k, v in codon_dict.items():\n",
    "    inv_codon_dict[v] = inv_codon_dict.get(v, [])\n",
    "    inv_codon_dict[v].append(k)\n",
    "inv_codon_dict"
   ]
  },
  {
   "cell_type": "code",
   "execution_count": 11,
   "metadata": {
    "collapsed": false
   },
   "outputs": [
    {
     "name": "stdout",
     "output_type": "stream",
     "text": [
      "18688\n"
     ]
    }
   ],
   "source": [
    "result = 1\n",
    "for char in s:\n",
    "    result *= len(inv_codon_dict[char])\n",
    "    result = result % 10**6\n",
    "result *= len(inv_codon_dict['stop'])\n",
    "result = result % 10**6\n",
    "print(result)"
   ]
  }
 ],
 "metadata": {
  "anaconda-cloud": {},
  "kernelspec": {
   "display_name": "Python [Root]",
   "language": "python",
   "name": "Python [Root]"
  },
  "language_info": {
   "codemirror_mode": {
    "name": "ipython",
    "version": 3
   },
   "file_extension": ".py",
   "mimetype": "text/x-python",
   "name": "python",
   "nbconvert_exporter": "python",
   "pygments_lexer": "ipython3",
   "version": "3.5.2"
  }
 },
 "nbformat": 4,
 "nbformat_minor": 0
}
