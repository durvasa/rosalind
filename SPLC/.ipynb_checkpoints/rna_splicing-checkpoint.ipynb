{
 "cells": [
  {
   "cell_type": "markdown",
   "metadata": {},
   "source": [
    "# PROT: Translating RNA into Protein"
   ]
  },
  {
   "cell_type": "code",
   "execution_count": 1,
   "metadata": {
    "collapsed": true
   },
   "outputs": [],
   "source": [
    "def FASTA_iterator(fasta_filename):\n",
    "\n",
    "    \"\"\"\n",
    "    A generator function that reads a FASTA file. At each iteration, the\n",
    "    function must return a tuple with the format (identifier, sequence).\n",
    "    \"\"\"\n",
    "\n",
    "    with open(fasta_filename, 'rt') as fasta:\n",
    "        sequence = ''\n",
    "        identifier = ''\n",
    "        my_list = []\n",
    "        for line in fasta:\n",
    "            if (line[0] == '>'):\n",
    "                if (sequence != ''):\n",
    "                    my_tuple = (identifier, sequence)\n",
    "                    yield(my_tuple)\n",
    "                    identifier= ''\n",
    "                    sequence= ''\n",
    "                identifier = line[1:].strip()\n",
    "            else:\n",
    "                sequence += line.strip()\n",
    "        my_tuple = (identifier, sequence)\n",
    "        yield(my_tuple)"
   ]
  },
  {
   "cell_type": "code",
   "execution_count": 18,
   "metadata": {
    "collapsed": true
   },
   "outputs": [],
   "source": [
    "codon_dict = {\n",
    "    'ATA':'I', 'ATC':'I', 'ATT':'I', 'ATG':'M',\n",
    "    'ACA':'T', 'ACC':'T', 'ACG':'T', 'ACT':'T',\n",
    "    'AAC':'N', 'AAT':'N', 'AAA':'K', 'AAG':'K',\n",
    "    'AGC':'S', 'AGT':'S', 'AGA':'R', 'AGG':'R',\n",
    "    'CTA':'L', 'CTC':'L', 'CTG':'L', 'CTT':'L',\n",
    "    'CCA':'P', 'CCC':'P', 'CCG':'P', 'CCT':'P',\n",
    "    'CAC':'H', 'CAT':'H', 'CAA':'Q', 'CAG':'Q',\n",
    "    'CGA':'R', 'CGC':'R', 'CGG':'R', 'CGT':'R',\n",
    "    'GTA':'V', 'GTC':'V', 'GTG':'V', 'GTT':'V',\n",
    "    'GCA':'A', 'GCC':'A', 'GCG':'A', 'GCT':'A',\n",
    "    'GAC':'D', 'GAT':'D', 'GAA':'E', 'GAG':'E',\n",
    "    'GGA':'G', 'GGC':'G', 'GGG':'G', 'GGT':'G',\n",
    "    'TCA':'S', 'TCC':'S', 'TCG':'S', 'TCT':'S',\n",
    "    'TTC':'F', 'TTT':'F', 'TTA':'L', 'TTG':'L',\n",
    "    'TAC':'Y', 'TAT':'Y', 'TAA':'', 'TAG':'',\n",
    "    'TGC':'C', 'TGT':'C', 'TGA':'', 'TGG':'W'}"
   ]
  },
  {
   "cell_type": "code",
   "execution_count": 24,
   "metadata": {
    "collapsed": true
   },
   "outputs": [],
   "source": [
    "myinput = '/home/hanuman/docs/biomatics/rosalind/SPLC/input-test.txt'\n",
    "myinput = '/home/hanuman/docs/biomatics/rosalind/SPLC/input-final.txt'"
   ]
  },
  {
   "cell_type": "code",
   "execution_count": 25,
   "metadata": {
    "collapsed": true
   },
   "outputs": [],
   "source": [
    "def remove_intron(intron, seq):\n",
    "    l = seq.split(intron)\n",
    "    return ''.join(l)\n",
    "\n",
    "def read_sequence_introns(myinput):\n",
    "    g = FASTA_iterator(myinput)\n",
    "    s = next(g)[1]\n",
    "    introns = []\n",
    "    for item in g:\n",
    "        introns.append(item[1])\n",
    "    return s, introns\n",
    "\n",
    "def cut_paste_translate(myinput):\n",
    "    s, l = read_sequence_introns(myinput)\n",
    "    for intron in l:\n",
    "        s = remove_intron(intron, s)\n",
    "    n = len(s)\n",
    "    protein = ''\n",
    "    for i in range(0, n, 3):\n",
    "        protein += codon_dict[s[i:i+3]]\n",
    "    return protein"
   ]
  },
  {
   "cell_type": "code",
   "execution_count": 26,
   "metadata": {
    "collapsed": false
   },
   "outputs": [
    {
     "data": {
      "text/plain": [
       "'MRHVVASRHSCHQVVRVNATTCQDCGRDIVGASCLYATGFRLSVFSRPLRAVTLIFWIALSKARPLQQRRAQMQVFLLLWLGRLHKKFASFRGTLFSPTGWGPVQPLLTYYADPRRGVRAVGGVLRLVGIGPATTLCLRAVPDTDRQGSCALNDQEILLASRSLPLASKRFLYKNQT'"
      ]
     },
     "execution_count": 26,
     "metadata": {},
     "output_type": "execute_result"
    }
   ],
   "source": [
    "cut_paste_translate(myinput)"
   ]
  }
 ],
 "metadata": {
  "anaconda-cloud": {},
  "kernelspec": {
   "display_name": "Python [Root]",
   "language": "python",
   "name": "Python [Root]"
  },
  "language_info": {
   "codemirror_mode": {
    "name": "ipython",
    "version": 3
   },
   "file_extension": ".py",
   "mimetype": "text/x-python",
   "name": "python",
   "nbconvert_exporter": "python",
   "pygments_lexer": "ipython3",
   "version": "3.5.2"
  }
 },
 "nbformat": 4,
 "nbformat_minor": 0
}
