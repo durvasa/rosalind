{
 "cells": [
  {
   "cell_type": "markdown",
   "metadata": {},
   "source": [
    "# PROT: Translating RNA into Protein"
   ]
  },
  {
   "cell_type": "code",
   "execution_count": 31,
   "metadata": {
    "collapsed": true
   },
   "outputs": [],
   "source": [
    "codon_dict = {\n",
    "    'ATA':'I', 'ATC':'I', 'ATT':'I', 'ATG':'M',\n",
    "    'ACA':'T', 'ACC':'T', 'ACG':'T', 'ACT':'T',\n",
    "    'AAC':'N', 'AAT':'N', 'AAA':'K', 'AAG':'K',\n",
    "    'AGC':'S', 'AGT':'S', 'AGA':'R', 'AGG':'R',\n",
    "    'CTA':'L', 'CTC':'L', 'CTG':'L', 'CTT':'L',\n",
    "    'CCA':'P', 'CCC':'P', 'CCG':'P', 'CCT':'P',\n",
    "    'CAC':'H', 'CAT':'H', 'CAA':'Q', 'CAG':'Q',\n",
    "    'CGA':'R', 'CGC':'R', 'CGG':'R', 'CGT':'R',\n",
    "    'GTA':'V', 'GTC':'V', 'GTG':'V', 'GTT':'V',\n",
    "    'GCA':'A', 'GCC':'A', 'GCG':'A', 'GCT':'A',\n",
    "    'GAC':'D', 'GAT':'D', 'GAA':'E', 'GAG':'E',\n",
    "    'GGA':'G', 'GGC':'G', 'GGG':'G', 'GGT':'G',\n",
    "    'TCA':'S', 'TCC':'S', 'TCG':'S', 'TCT':'S',\n",
    "    'TTC':'F', 'TTT':'F', 'TTA':'L', 'TTG':'L',\n",
    "    'TAC':'Y', 'TAT':'Y', 'TAA':'*', 'TAG':'*',\n",
    "    'TGC':'C', 'TGT':'C', 'TGA':'*', 'TGG':'W'}\n",
    "\n",
    "CB = {'A': 'T', 'T': 'A', 'C': 'G', 'G': 'C'}"
   ]
  },
  {
   "cell_type": "code",
   "execution_count": 108,
   "metadata": {
    "collapsed": true
   },
   "outputs": [],
   "source": [
    "s = 'AGCCATGTAGCTAACTCAGGTTACATGGGGATGACCCCGCGACTTGGATTAGAGTCTCTTTTGGAATAAGCCTGAATGATCCGAGTAGCATCTCAG'\n",
    "s = 'CGCTGCTTTTTCTTAGCTAAGCCTTCGAAACCTTGGACGATAGTTTTCATGCAGCTAGTTGTTAAAGCCTGATCTCGTGCCGACCGAACTTCGTAGTTTTCTCCAAGTTCTAGTTGGTGGACATAACTACGGATTTTCCAGCGTACCCAGTACCCCAGCGTCGGGCCCCTGTAGATCTGCTCATCTAGTCCTGGTGGATGAATGAGCTTCCTGCGCTTTTTGGGAAGAATCTGATTCAGCCTTCTTCAACCCAGGTCGGCACTAAGCTCCACGTCACGCACTCACAGGGTAATTTCCTCGTGCATCTAAGTATCCGCGATTTTGTCGCATCCTTGGCCGGTGGATTTCCTCGGCCTCTTACTAGTCTTGGGTTCCTACGGAGTCACGTTAAACGGATATGTGGACGTCCGATTATGTCGGTATAGGGTAACTAGCTAGTTACCCTATACCGACATCTGGTCAACACACACGGAATTCAAGTACCGGGGTGACGGGAAGCCTTAGTATTGTCGCCTCGCTTTCTTACGGATTTACATAGTCTTATTAGCGAGTTAGCTCAGTCTTCAGCTTAGTGCGGTGGTGGCCGCATTGGTGTAGAGCGACGGCCTGAAGTGCCTTTCGTTTTTAAATGCTCTCGTACCTCTAGCGTTCAGCCGCCTCTAGGTTTCCTAAGTCTGAAGATCGCGCACCTTATCCGCGCGCTCATAAATACCCGATAACACCCTTAACTCTTTAGTGGACGTTCACAGTTTGCCCTACGTCGACGAACGATAGCATAGACTTAACGCGCCGTCGAAATCCTGTGTTTTAAGCGCTACGGCAGAGTCAGGACATGGAACTTCCGTACAAGATCTGCTGCATCCTAGTG'"
   ]
  },
  {
   "cell_type": "code",
   "execution_count": 106,
   "metadata": {
    "collapsed": false
   },
   "outputs": [],
   "source": [
    "def start_stop(s):\n",
    "    orf = []\n",
    "    for i in range(len(s)):\n",
    "        if s[i:i+3] == 'ATG':\n",
    "            orf.append('1')\n",
    "        elif s[i:i+3] in {'TAA', 'TAG', 'TGA'}:\n",
    "            orf.append('*')\n",
    "        else:\n",
    "            orf.append('0')\n",
    "    return orf\n",
    "\n",
    "def reverse_string(s):\n",
    "    w = list(s)\n",
    "    w.reverse()\n",
    "    return ''.join(w)\n",
    "\n",
    "def reverse_complement(s):\n",
    "    w = reverse_string(s)\n",
    "    rc = ''\n",
    "    for char in w:\n",
    "        rc += CB[char]\n",
    "    return rc\n",
    "\n",
    "def translate(s):\n",
    "    r = len(s) % 3\n",
    "    if r != 0:\n",
    "        s = s[:-r]\n",
    "    prot_list = []\n",
    "    prot = ''\n",
    "    for i in range(0, len(s), 3):\n",
    "        prot += codon_dict[s[i:i+3]]\n",
    "    return prot\n",
    "\n",
    "def translate_orf(s):\n",
    "    prot_list = []\n",
    "    orf = start_stop(s)\n",
    "    for i, k in enumerate(orf):\n",
    "        if k == '1':\n",
    "            j = 0\n",
    "            w = ''\n",
    "            while (i + j < len(s)) and ((orf[i + j] != '*') or (j % 3 != 0)):\n",
    "                w += s[i + j]\n",
    "                j += 1\n",
    "            if i + j >= len(s):\n",
    "                continue\n",
    "            prot = translate(w)\n",
    "            prot_list.append(prot)\n",
    "    return prot_list"
   ]
  },
  {
   "cell_type": "code",
   "execution_count": 109,
   "metadata": {
    "collapsed": false
   },
   "outputs": [
    {
     "name": "stdout",
     "output_type": "stream",
     "text": [
      "MQQILYGSSMS\n",
      "MRQNRGYLDARGNYPVSA\n",
      "MNELPALFGKNLIQPSSTQVGTKLHVTHSQGNFLVHLSIRDFVASLAGGFPRPLTSLGFLRSHVKRICGRPIMSV\n",
      "MSARIRCAIFRLRKPRGG\n",
      "MLSFVDVGQTVNVH\n",
      "MWTSDYVGIG\n",
      "MRPPPH\n",
      "MSTN\n",
      "M\n",
      "MHEEITL\n",
      "MQLVVKA\n",
      "MSV\n",
      "MSFLRFLGRI\n",
      "MS\n",
      "MLSYL\n",
      "MSRSTGARRWGTGYAGKSVVMSTN\n"
     ]
    }
   ],
   "source": [
    "a = translate_orf(s)\n",
    "b = translate_orf(reverse_complement(s))\n",
    "l = a + b\n",
    "l = set(l)\n",
    "for item in l:\n",
    "    print(item)"
   ]
  }
 ],
 "metadata": {
  "anaconda-cloud": {},
  "kernelspec": {
   "display_name": "Python [Root]",
   "language": "python",
   "name": "Python [Root]"
  },
  "language_info": {
   "codemirror_mode": {
    "name": "ipython",
    "version": 3
   },
   "file_extension": ".py",
   "mimetype": "text/x-python",
   "name": "python",
   "nbconvert_exporter": "python",
   "pygments_lexer": "ipython3",
   "version": "3.5.2"
  }
 },
 "nbformat": 4,
 "nbformat_minor": 0
}
