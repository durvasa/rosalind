{
 "cells": [
  {
   "cell_type": "markdown",
   "metadata": {},
   "source": [
    "# IEV: Calculating Expected Offspring\n",
    "\n",
    "### Six types of couples\n",
    "\n",
    "    1. AA-AA\n",
    "    2. AA-Aa\n",
    "    3. AA-aa\n",
    "    4. Aa-Aa\n",
    "    5. Aa-aa\n",
    "    6. aa-aa\n"
   ]
  },
  {
   "cell_type": "code",
   "execution_count": 37,
   "metadata": {
    "collapsed": true
   },
   "outputs": [],
   "source": [
    "prob = [1, 1, 1, 0.75, 0.5, 0]\n",
    "prob_once_in_two = [2 * prob[i] * (1-prob[i]) for i in range(6)]\n",
    "prob_two_in_two = [prob[i] ** 2 for i in range(6)]"
   ]
  },
  {
   "cell_type": "code",
   "execution_count": 40,
   "metadata": {
    "collapsed": true
   },
   "outputs": [],
   "source": [
    "s = '18609 18627 18980 16325 19863 19140'\n",
    "l = list(map(int, s.split()))"
   ]
  },
  {
   "cell_type": "code",
   "execution_count": 41,
   "metadata": {
    "collapsed": false
   },
   "outputs": [
    {
     "name": "stdout",
     "output_type": "stream",
     "text": [
      "156782.5\n"
     ]
    }
   ],
   "source": [
    "result = sum([(2 * prob_two_in_two[i] + 1 * prob_once_in_two[i]) * l[i] for i in range(6)])\n",
    "print(result)"
   ]
  }
 ],
 "metadata": {
  "kernelspec": {
   "display_name": "Python [Root]",
   "language": "python",
   "name": "Python [Root]"
  },
  "language_info": {
   "codemirror_mode": {
    "name": "ipython",
    "version": 3
   },
   "file_extension": ".py",
   "mimetype": "text/x-python",
   "name": "python",
   "nbconvert_exporter": "python",
   "pygments_lexer": "ipython3",
   "version": "3.5.2"
  }
 },
 "nbformat": 4,
 "nbformat_minor": 0
}
