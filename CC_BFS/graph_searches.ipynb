{
 "cells": [
  {
   "cell_type": "markdown",
   "metadata": {},
   "source": [
    "# Graph Searches\n",
    "\n",
    "## CC: Connected Components"
   ]
  },
  {
   "cell_type": "code",
   "execution_count": 24,
   "metadata": {
    "collapsed": true
   },
   "outputs": [],
   "source": [
    "def graph_setup(input_file):\n",
    "    with open(input_file, 'rt') as f:\n",
    "        v, e = tuple(map(int, next(f).rstrip().split()))\n",
    "        graph = {j+1: [] for j in range(v)}\n",
    "        for line in f:\n",
    "            a, b = tuple(map(int, line.rstrip().split()))\n",
    "            graph[a].append(b)\n",
    "            graph[b].append(a)\n",
    "    return graph           \n",
    "\n",
    "def connected_components(graph):\n",
    "    v = set(list(graph.keys()))\n",
    "    conn = 0\n",
    "    while len(v) > 0:\n",
    "        queue = [next(iter(v))]\n",
    "        visited = set()\n",
    "        while len(queue) > 0:\n",
    "            current = queue.pop()\n",
    "            visited.add(current)\n",
    "            for item in graph[current]:\n",
    "                if item not in visited:\n",
    "                    queue.append(item)\n",
    "        conn += 1\n",
    "        v = v.difference(visited)\n",
    "    return conn "
   ]
  },
  {
   "cell_type": "code",
   "execution_count": 28,
   "metadata": {
    "collapsed": false
   },
   "outputs": [
    {
     "data": {
      "text/plain": [
       "95"
      ]
     },
     "execution_count": 28,
     "metadata": {},
     "output_type": "execute_result"
    }
   ],
   "source": [
    "input_file = '/home/hanuman/docs/biomatics/rosalind/CC/input_1.txt'\n",
    "graph = graph_setup(input_file)\n",
    "connected_components(graph)"
   ]
  },
  {
   "cell_type": "markdown",
   "metadata": {},
   "source": [
    "## BFS: Breadth-First Search"
   ]
  },
  {
   "cell_type": "code",
   "execution_count": 34,
   "metadata": {
    "collapsed": true
   },
   "outputs": [],
   "source": [
    "def oriented_graph_setup(input_file):\n",
    "    with open(input_file, 'rt') as f:\n",
    "        v, e = tuple(map(int, next(f).rstrip().split()))\n",
    "        graph = {j+1: [] for j in range(v)}\n",
    "        for line in f:\n",
    "            a, b = tuple(map(int, line.rstrip().split()))\n",
    "            graph[a].append(b)\n",
    "    return graph           "
   ]
  },
  {
   "cell_type": "code",
   "execution_count": 57,
   "metadata": {
    "collapsed": false
   },
   "outputs": [],
   "source": [
    "input_file = '/home/hanuman/docs/biomatics/rosalind/CC/input_2.txt'\n",
    "graph = oriented_graph_setup(input_file)"
   ]
  },
  {
   "cell_type": "code",
   "execution_count": 58,
   "metadata": {
    "collapsed": true
   },
   "outputs": [],
   "source": [
    "def distance(graph, vertex):\n",
    "    start = 1\n",
    "    path = [start]\n",
    "    queue = [(path, start)]\n",
    "    visited = set()\n",
    "    while len(queue) > 0:\n",
    "        path, current = queue.pop(0)\n",
    "        if current == vertex:\n",
    "            return len(path) - 1\n",
    "        else:\n",
    "            visited.add(current)\n",
    "            for item in graph[current]:\n",
    "                if item not in visited:\n",
    "                    new_path = path + [item]\n",
    "                    queue.append((new_path, item))\n",
    "    return -1"
   ]
  },
  {
   "cell_type": "code",
   "execution_count": 59,
   "metadata": {
    "collapsed": false
   },
   "outputs": [
    {
     "name": "stdout",
     "output_type": "stream",
     "text": [
      "0 6 7 6 5 6 6 5 6 6 8 4 6 7 6 6 6 7 7 6 7 6 6 -1 5 6 7 7 5 7 7 7 6 7 5 7 6 6 7 6 4 4 6 6 6 5 6 5 6 6 6 8 6 5 7 6 6 4 7 5 7 6 4 7 -1 6 6 7 8 6 7 3 6 5 4 6 6 8 6 5 7 7 6 4 5 6 6 6 6 6 4 5 7 6 9 6 7 6 7 2 6 6 4 6 6 7 5 6 6 7 6 -1 5 8 4 1 4 8 6 6 8 4 7 6 6 6 7 6 6 6 6 7 6 5 5 4 4 8 5 6 5 6 5 5 6 5 6 5 4 4 7 6 6 7 6 5 8 6 6 8 6 7 7 6 6 5 7 8 7 6 6 6 6 6 6 6 7 7 6 8 6 6 6 6 7 7 6 7 5 6 4 5 6 6 6 6 7 6 7 6 5 5 7 5 8 7 6 5 5 6 6 5 5 6 5 7 5 6 -1 7 6 5 4 6 6 5 6 3 6 4 7 5 6 8 7 7 3 4 6 5 5 8 6 6 5 4 6 7 5 8 7 9 7 5 6 7 7 5 6 5 5 6 6 6 7 5 5 6 7 5 6 7 6 5 6 8 8 7 7 5 5 7 5 5 5 7 5 7 5 7 7 -1 5 -1 7 6 6 6 6 7 5 6 6 -1 6 8 6 6 4 7 7 6 3 6 7 6 6 8 5 6 5 7 6 6 5 5 4 6 6 7 6 8 5 5 5 6 7 7 8 7 7 4 6 8 6 4 5 7 9 5 6 8 6 8 5 6 4 4 1 7 5 6 5 5 5 6 5 4 6 8 7 5 7 7 6 5 5 7 7 7 4 6 7 6 6 7 4 -1 6 5 4 7 6 5 7 7 8 6 -1 7 5 6 7 7 6 4 7 5 6 6 8 5 7 7 -1 7 6 7 6 -1 7 5 4 5 2 6 6 5 6 8 3 6 7 4 5 7 5 6 4 6 6 6 5 6 7 5 -1 6 4 7 4 5 6 7 6 5 4 5 6 6 7 7 7 5 5 6 5 7 6 6 7 7 6 6 7 7 6 5 7 6 6 7 6 4 5 7 7 4 6 4 6 4 8 5 -1 7 5 6 6 7 5 5 7 7 -1 6 6 6 3 7 5 7 6 7 6 6 5 6 7 7 7 7 6 7 -1 6 7 7 6 7 5 7 7 7 3 7 7 6 5 8 6 -1 7 7 8 7 4 6 5 6 6 5 7 6 7 7 6 5 5 5 5 4 7 5 6 6 6 5 7 9 6 6 5 6 2 6 9 7 6 5 5 5 -1 5 5 5 6 6 5 6 4 3 -1 5 4 4 6 5 6 7 5 6 7 7 5 6 7 5 8 4 5 5 6 6 5 6 6 7 6 6 5 6 6 5 3 9 6 8 6 7 7 6 7 6 6 5 4 6 6 5 4 3 6 7 7 6 6 3 6 5 6 5 6 6 7 7 6 4 7 6 5 7 -1 7 5 7 5 -1 6 6 5 6 5 6 7 8 7 7 -1 5 4 5 7 5 5 7 7 2 6 6 6 6 8 6 7 6 7 5 -1 -1 4 5 6 6 7 7 6 7 4 5 6 3 7 6 7 5 7 6 5 6 6 6 8 6 6 7 6 4 6 4 6 6 7 6 4 5 7 6 7 6 5 6 6 8 4 6 5 6 7 6 5 7 8 8 7 5 6 3 5 6 6 4 5 6 5 7 6 6 6 6 7 -1 7 -1 7 6 5 6 7 -1 6 -1 6 6 6 6 7 3 6 5 7 7 5 6 4 7 8 5 4 -1 6 7 5 6 6 7 6 7 9 5 7 6 5 5 8 5 6 6 7 6 6 5 5 6\n"
     ]
    }
   ],
   "source": [
    "l = []\n",
    "for item in graph:\n",
    "    l.append(distance(graph, item))\n",
    "l = list(map(str, l))\n",
    "print(' '.join(l))"
   ]
  }
 ],
 "metadata": {
  "anaconda-cloud": {},
  "kernelspec": {
   "display_name": "Python [Root]",
   "language": "python",
   "name": "Python [Root]"
  },
  "language_info": {
   "codemirror_mode": {
    "name": "ipython",
    "version": 3
   },
   "file_extension": ".py",
   "mimetype": "text/x-python",
   "name": "python",
   "nbconvert_exporter": "python",
   "pygments_lexer": "ipython3",
   "version": "3.5.2"
  }
 },
 "nbformat": 4,
 "nbformat_minor": 0
}
