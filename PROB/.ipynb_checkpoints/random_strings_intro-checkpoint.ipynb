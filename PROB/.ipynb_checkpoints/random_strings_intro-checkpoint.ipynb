{
 "cells": [
  {
   "cell_type": "markdown",
   "metadata": {},
   "source": [
    "# Random Strings Intro"
   ]
  },
  {
   "cell_type": "code",
   "execution_count": 25,
   "metadata": {
    "collapsed": true
   },
   "outputs": [],
   "source": [
    "myinput = '/home/hanuman/docs/biomatics/rosalind/PROB/input-test.txt'\n",
    "myinput = '/home/hanuman/docs/biomatics/rosalind/PROB/input-final.txt'"
   ]
  },
  {
   "cell_type": "code",
   "execution_count": 26,
   "metadata": {
    "collapsed": true
   },
   "outputs": [],
   "source": [
    "import math\n",
    "\n",
    "def gcc_probs(gc):\n",
    "    mydict = {}\n",
    "    mydict['C'] = gc / 2\n",
    "    mydict['G'] = gc / 2\n",
    "    mydict['A'] = (1 - gc) / 2\n",
    "    mydict['T'] = (1 - gc) / 2\n",
    "    return mydict\n",
    "\n",
    "def log_prob(s, gc):\n",
    "    prob_dict = gcc_probs(gc)\n",
    "    result = 0\n",
    "    for nt in s:\n",
    "        result += math.log(prob_dict[nt], 10)\n",
    "    return result"
   ]
  },
  {
   "cell_type": "code",
   "execution_count": 27,
   "metadata": {
    "collapsed": false
   },
   "outputs": [
    {
     "name": "stdout",
     "output_type": "stream",
     "text": [
      "CCCAATACACCACGAGCGGTGGCTCTCTGTCATTACGTTATACTTTGCAGGTCTGTCAATATCATTAAAAGCCGTTTTTCACG\n",
      "[0.081, 0.121, 0.163, 0.209, 0.299, 0.301, 0.391, 0.445, 0.469, 0.533, 0.567, 0.606, 0.667, 0.711, 0.75, 0.831, 0.88, 0.914]\n"
     ]
    }
   ],
   "source": [
    "with open(myinput, 'rt') as f:\n",
    "    s = next(f).rstrip()\n",
    "    a = next(f).rstrip().split()\n",
    "a = list(map(float, a))\n",
    "print(s)\n",
    "print(a)"
   ]
  },
  {
   "cell_type": "code",
   "execution_count": 28,
   "metadata": {
    "collapsed": false
   },
   "outputs": [
    {
     "name": "stdout",
     "output_type": "stream",
     "text": [
      "-67.05903041783921 -61.4989426850083 -57.68917720947407 -54.82395881310829 -51.48262684564026 -51.4325792188369 -49.98255415535111 -49.75869201017289 -49.797746489904846 -50.30800640008609 -50.824473228818064 -51.641176341981364 -53.460399043907415 -55.26501364630797 -57.30298249570381 -63.477463347869346 -69.39729345236347 -75.44355164075455\n"
     ]
    }
   ],
   "source": [
    "l = []\n",
    "for item in a:\n",
    "    l.append(log_prob(s, item))\n",
    "l = list(map(str, l))\n",
    "print(' '.join(l))"
   ]
  }
 ],
 "metadata": {
  "kernelspec": {
   "display_name": "Python [Root]",
   "language": "python",
   "name": "Python [Root]"
  },
  "language_info": {
   "codemirror_mode": {
    "name": "ipython",
    "version": 3
   },
   "file_extension": ".py",
   "mimetype": "text/x-python",
   "name": "python",
   "nbconvert_exporter": "python",
   "pygments_lexer": "ipython3",
   "version": "3.5.2"
  }
 },
 "nbformat": 4,
 "nbformat_minor": 0
}
