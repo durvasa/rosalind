{
 "cells": [
  {
   "cell_type": "markdown",
   "metadata": {},
   "source": [
    "# EVAL: Expected Number of Restriction Sites"
   ]
  },
  {
   "cell_type": "code",
   "execution_count": 8,
   "metadata": {
    "collapsed": true
   },
   "outputs": [],
   "source": [
    "input_file = '/home/hanuman/docs/biomatics/rosalind/EVAL/input.txt'\n",
    "\n",
    "with open(input_file, 'rt') as f:\n",
    "    n = int(next(f).rstrip())\n",
    "    dna = next(f).rstrip()\n",
    "    gcs = list(map(float, next(f).rstrip().split())) "
   ]
  },
  {
   "cell_type": "code",
   "execution_count": 9,
   "metadata": {
    "collapsed": false
   },
   "outputs": [
    {
     "name": "stdout",
     "output_type": "stream",
     "text": [
      "0.0 0.13454040777181905 0.4128464004477356 1.1436433384233167 1.4933307020908069 2.4706171533925096 3.03368959793137 3.289221297488196 2.9319548714915764 2.3486952205641334 2.0810082503165575 0.8908430814682784 0.5608202309978023 0.166511585968049 0.03511459014326225 0.01749016860523496 0.0\n"
     ]
    }
   ],
   "source": [
    "m = len(dna)\n",
    "m_cg = dna.count('C') + dna.count('G')\n",
    "m_at = m - m_cg\n",
    "l = []\n",
    "for x in gcs:\n",
    "    p_cg = x / 2\n",
    "    p_at = (1 - x) / 2\n",
    "    p = (p_cg ** m_cg) * (p_at ** m_at)\n",
    "    e = (n - m + 1) * p\n",
    "    l.append(str(e))\n",
    "print(' '.join(l))"
   ]
  }
 ],
 "metadata": {
  "kernelspec": {
   "display_name": "Python [Root]",
   "language": "python",
   "name": "Python [Root]"
  },
  "language_info": {
   "codemirror_mode": {
    "name": "ipython",
    "version": 3
   },
   "file_extension": ".py",
   "mimetype": "text/x-python",
   "name": "python",
   "nbconvert_exporter": "python",
   "pygments_lexer": "ipython3",
   "version": "3.5.2"
  }
 },
 "nbformat": 4,
 "nbformat_minor": 0
}
