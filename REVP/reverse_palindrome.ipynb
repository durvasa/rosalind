{
 "cells": [
  {
   "cell_type": "markdown",
   "metadata": {},
   "source": [
    "# REVP: Reverse Palindromes"
   ]
  },
  {
   "cell_type": "code",
   "execution_count": 24,
   "metadata": {
    "collapsed": true
   },
   "outputs": [],
   "source": [
    "CB = {'A': 'T', 'C': 'G', 'G': 'C', 'T': 'A'}\n",
    "\n",
    "def rev_palindrome(seq):\n",
    "    outcome = True\n",
    "    for i in range(len(seq)):\n",
    "        if seq[i] != CB[seq[-i-1]]:\n",
    "            outcome = False\n",
    "    return outcome\n",
    "\n",
    "def palindrome_pos_length(seq):\n",
    "    l = []\n",
    "    for j in range(4, 13):\n",
    "        for i in range(len(seq) - j + 1):\n",
    "            s = seq[i:i+j]\n",
    "            if rev_palindrome(s):\n",
    "                l.append((i+1,j))\n",
    "    for item in sorted(l, key=lambda x: x[0]):\n",
    "        print(' '.join(map(str, list(item))))"
   ]
  },
  {
   "cell_type": "code",
   "execution_count": 25,
   "metadata": {
    "collapsed": false
   },
   "outputs": [
    {
     "name": "stdout",
     "output_type": "stream",
     "text": [
      "4 6\n",
      "5 4\n",
      "6 6\n",
      "7 4\n",
      "17 4\n",
      "18 4\n",
      "20 6\n",
      "21 4\n"
     ]
    }
   ],
   "source": [
    "seq = 'TCAATGCATGCGGGTCTATATGCAT'\n",
    "palindrome_pos_length(seq)"
   ]
  },
  {
   "cell_type": "code",
   "execution_count": 26,
   "metadata": {
    "collapsed": false
   },
   "outputs": [
    {
     "name": "stdout",
     "output_type": "stream",
     "text": [
      "1 4\n",
      "12 6\n",
      "13 4\n",
      "46 4\n",
      "51 6\n",
      "52 4\n",
      "171 12\n",
      "172 10\n",
      "173 8\n",
      "174 6\n",
      "175 4\n",
      "246 4\n",
      "249 4\n",
      "250 4\n",
      "260 4\n",
      "271 4\n",
      "277 4\n",
      "283 4\n",
      "293 4\n",
      "297 4\n",
      "298 8\n",
      "299 6\n",
      "300 4\n",
      "315 4\n",
      "332 4\n",
      "342 4\n",
      "355 4\n",
      "359 4\n",
      "362 4\n",
      "370 4\n",
      "375 4\n",
      "399 4\n",
      "405 4\n",
      "409 4\n",
      "419 4\n",
      "426 6\n",
      "427 4\n",
      "433 4\n",
      "444 4\n",
      "455 12\n",
      "456 10\n",
      "457 8\n",
      "458 6\n",
      "459 4\n",
      "473 6\n",
      "474 4\n",
      "505 4\n",
      "508 4\n",
      "532 4\n",
      "539 4\n",
      "546 4\n",
      "560 4\n",
      "563 6\n",
      "564 4\n",
      "578 6\n",
      "579 4\n",
      "583 6\n",
      "584 4\n",
      "586 4\n",
      "592 8\n",
      "593 6\n",
      "594 4\n",
      "616 4\n",
      "621 4\n",
      "622 4\n",
      "664 4\n",
      "667 4\n",
      "694 4\n",
      "696 6\n",
      "697 4\n",
      "714 4\n",
      "720 4\n",
      "725 4\n",
      "763 6\n",
      "764 4\n",
      "767 4\n",
      "771 4\n",
      "772 10\n",
      "773 8\n",
      "774 6\n",
      "775 4\n",
      "785 4\n",
      "793 4\n",
      "838 4\n",
      "899 6\n",
      "900 4\n",
      "901 6\n",
      "902 4\n",
      "905 4\n",
      "906 4\n",
      "915 4\n",
      "915 6\n",
      "916 4\n",
      "917 4\n"
     ]
    }
   ],
   "source": [
    "seq = 'TATACCCAGGTTTGCAACTACGGATGTGAACTTGGCAGTCTGTGGATATTCCGCGGGTGCCTCGGTCCAACAAACAAGTTTTTTCGTAAAATGGCGACCACTTCCCTGATAGCGATAAGAGGACTAAACTTGAGAACGAGCATCCTAATCTGTTGAACGCCTAAACGGAGCAATGATCATTGACCAGGAAGACAATCGGTCCTGTGTGAATGGAATGGACAATGTTATTAGGTTCGTGCGAAGTGTCGATATAAGTTTGGGCCTTACGCCACGTCCAATTAGGGCCATACTTTCGACCGGATCCGAGACTGTCTGTACTCTCTTCCAACTCCGCGTAGCGTGATCGTCAGTGTGTATAGATCCGGCTGGAATTTGGCCTGGCGGCGACTGACGGGCTAAATTCAAGCTGTACCAGTCCGATCAGAGGCGCCCGTACTTACACAGGCCCTTATTTATTGGCGCCAATCAATACTGATCAACCCGCCGTCGCATTCGGTCCTATTCCCGGATCACAAGAGCGGAGTGTTCTTCATATCTTCATGGGGTGCAACGCAGAACGGCGCAGCTGGTTTTACTTCATATGCTAGCTTGCCATATGGGGACCGCCGTGCCCCTGATCTCGCGCATCAGACTAAAATGTGCGAATCGCAATCACGACGATAAAATTGCAGTTGTCACTTGGGTTTCAACGATAATTCGAAAGATGATAATGCGGCCCAGATCGCCGGGACTCTGCTCCGCCATCCGAATGATGCCAGGCGGACTAGTACCATGCTAGCATTCTCATGTCAGCATGTCGTAAAGCGACGGTCGGGAGACGGTCAACCCGTTGTGGATGTACGGTCAAGTCTCCCAGCACCAGTCCTCTCCGACACCTACCATCAATCACCGTTGATTGCGATCGATATAGGACCATATAT'\n",
    "palindrome_pos_length(seq)"
   ]
  }
 ],
 "metadata": {
  "kernelspec": {
   "display_name": "Python [Root]",
   "language": "python",
   "name": "Python [Root]"
  },
  "language_info": {
   "codemirror_mode": {
    "name": "ipython",
    "version": 3
   },
   "file_extension": ".py",
   "mimetype": "text/x-python",
   "name": "python",
   "nbconvert_exporter": "python",
   "pygments_lexer": "ipython3",
   "version": "3.5.2"
  }
 },
 "nbformat": 4,
 "nbformat_minor": 0
}
