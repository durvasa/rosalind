{
 "cells": [
  {
   "cell_type": "markdown",
   "metadata": {},
   "source": [
    "# NWCK: Distances in Trees"
   ]
  },
  {
   "cell_type": "code",
   "execution_count": 128,
   "metadata": {
    "collapsed": true
   },
   "outputs": [],
   "source": [
    "filename = '/home/hanuman/docs/biomatics/rosalind/NWCK/input-test.txt'\n",
    "filename = '/home/hanuman/docs/biomatics/rosalind/NWCK/input-final.txt'"
   ]
  },
  {
   "cell_type": "code",
   "execution_count": 12,
   "metadata": {
    "collapsed": true
   },
   "outputs": [],
   "source": [
    "def read_newick(filename):\n",
    "\n",
    "    \"\"\"A generator function that reads a list of Newick format trees and pairs of nodes.\"\"\"\n",
    "\n",
    "    with open(filename, 'rt') as f:\n",
    "        n = 0\n",
    "        for line in f:\n",
    "            if n % 3 == 0:\n",
    "                tree = line.rstrip().strip(';')\n",
    "            if n % 3 == 1:\n",
    "                pair = line.rstrip().split()\n",
    "                yield (tree, pair)\n",
    "            if n % 3 == 2:\n",
    "                pass\n",
    "            n += 1"
   ]
  },
  {
   "cell_type": "code",
   "execution_count": 125,
   "metadata": {
    "collapsed": false
   },
   "outputs": [],
   "source": [
    "def split_newick(newick_string):\n",
    "    \n",
    "    \"\"\"Convert Newick string into reversed list of symbols\"\"\"\n",
    "    \n",
    "    s = list(newick_string)\n",
    "    w = []\n",
    "    node = ''\n",
    "    for char in s:\n",
    "        if char in {'(', ')', ','}:\n",
    "            if node != '':\n",
    "                w.append(node.strip())\n",
    "                node = ''\n",
    "            w.append(char)\n",
    "        else:\n",
    "            node += char\n",
    "    if node != '':\n",
    "        w.append(node.strip())\n",
    "    w.reverse()\n",
    "    for i in range(len(w)):\n",
    "        if w[i] == ')':\n",
    "            w[i] = '('\n",
    "        elif w[i] == '(':\n",
    "            w[i] = ')'\n",
    "    return w\n",
    "\n",
    "def label_newick_split(newick_split):\n",
    "    l = newick_split\n",
    "    open_parenth = [i for i, k in enumerate(l) if k == '(']\n",
    "    open_parenth = sorted(open_parenth, reverse=True)\n",
    "    n = len(l)\n",
    "    counter = 0\n",
    "    for j in open_parenth:\n",
    "        if (l[j+1] == ')') or (l[j+1] == ','):\n",
    "            l.insert(j+1, 'x' + str(counter))\n",
    "            counter += 1\n",
    "        if (j == 0) or (l[j-1] in [',', '(']):\n",
    "            l.insert(j, 'x' + str(counter))\n",
    "            counter += 1\n",
    "    commas = [i for i, k in enumerate(l) if k == ',']\n",
    "    commas = sorted(commas, reverse=True)\n",
    "    for j in commas:\n",
    "        if l[j+1] in [')', ',']:\n",
    "            l.insert(j+1, 'x' + str(counter))\n",
    "            counter += 1\n",
    "    return l\n",
    "\n",
    "def process_newick_string(newick_string):\n",
    "    s = split_newick(newick_string)\n",
    "    s = label_newick_split(s)\n",
    "    return s\n",
    "\n",
    "def break_comma_list(newick_split):\n",
    "    l = newick_split\n",
    "    counter = 0\n",
    "    for i in range(len(l)):\n",
    "        if (l[i] == ',') and (counter == 0):\n",
    "            l[i] = '*'\n",
    "        elif l[i] == '(':\n",
    "            counter += 1\n",
    "        elif l[i] == ')':\n",
    "            counter -= 1\n",
    "    w = [-1] + [i for i, k in enumerate(l) if k == '*'] + [len(l)]\n",
    "    for j in range(len(w)-1):\n",
    "        yield l[w[j]+1:w[j+1]]"
   ]
  },
  {
   "cell_type": "markdown",
   "metadata": {},
   "source": [
    "## General Implementation of a Graph"
   ]
  },
  {
   "cell_type": "code",
   "execution_count": 80,
   "metadata": {
    "collapsed": true
   },
   "outputs": [],
   "source": [
    "class Node(object):\n",
    "    \n",
    "    def __init__(self, label):\n",
    "        self.label = label\n",
    "        self.parent = None\n",
    "        self.children = set()\n",
    "    \n",
    "    def add_child(self, node):\n",
    "        self.children.add(node)\n",
    "        node.parent = self\n",
    "\n",
    "class Tree(object):\n",
    "    \n",
    "    def __init__(self, root):\n",
    "        self.root = root\n",
    "    \n",
    "    def tree_dict(self):\n",
    "        mydict = {}\n",
    "        queue = [self.root]\n",
    "        while len(queue) > 0:\n",
    "            node = queue.pop(0)\n",
    "            mydict[node.label] = set()\n",
    "            for child in node.children:\n",
    "                queue.append(child)\n",
    "                mydict[node.label].add(child.label)\n",
    "        return mydict\n",
    "    \n",
    "    def graph_dict(self):\n",
    "        mydict = self.tree_dict()\n",
    "        for key in mydict:\n",
    "            for child in mydict[key]:\n",
    "                mydict[child].add(key)\n",
    "        return mydict\n",
    "    \n",
    "    def find_all_paths(self, start_label, end_label, path=[]):\n",
    "        graph = self.graph_dict()\n",
    "        path = path + [start_label]\n",
    "        if start_label == end_label:\n",
    "            return [path]\n",
    "        if graph[start_label] == set():\n",
    "            return []\n",
    "        paths = []\n",
    "        for node in graph[start_label]:\n",
    "            if node not in path:\n",
    "                newpaths = self.find_all_paths(node, end_label, path)\n",
    "                for newpath in newpaths:\n",
    "                    paths.append(newpath)\n",
    "        return paths\n",
    "    \n",
    "    def distance(self, start_label, end_label):\n",
    "        paths = self.find_all_paths(start_label, end_label)\n",
    "        l = paths.pop()\n",
    "        return len(l) - 1\n",
    "\n",
    "def build_tree(newick_list):\n",
    "    \n",
    "    \"\"\"Inputs a processed newick list\"\"\"\n",
    "    \n",
    "    l = newick_list\n",
    "    if len(l) == 0:\n",
    "        return\n",
    "    root_label = l.pop(0)\n",
    "    root = Node(root_label)\n",
    "    l.pop(0)\n",
    "    l.pop()\n",
    "    for item in break_comma_list(l):\n",
    "        if len(item) == 1:\n",
    "            node = Node(item[0])\n",
    "        else:\n",
    "            node = build_tree(item)\n",
    "        root.add_child(node)\n",
    "    return root"
   ]
  },
  {
   "cell_type": "code",
   "execution_count": 129,
   "metadata": {
    "collapsed": false
   },
   "outputs": [
    {
     "name": "stdout",
     "output_type": "stream",
     "text": [
      "22 14 2 29 2 15 22 14 34 2 24 4 24 2 2 2 57 2 15 22 78 12 5 21 13 2 8 30 9 13 5 15\n"
     ]
    }
   ],
   "source": [
    "results = []\n",
    "for pair in read_newick(filename):\n",
    "    s = pair[0]\n",
    "    start_label = pair[1][0]\n",
    "    end_label = pair[1][1]\n",
    "    w = process_newick_string(s)\n",
    "    root = build_tree(w)\n",
    "    tree = Tree(root)\n",
    "    tree.tree_dict()\n",
    "    n = tree.distance(start_label, end_label)\n",
    "    results.append(n)\n",
    "results = list(map(str, results))\n",
    "print(' '.join(results))"
   ]
  }
 ],
 "metadata": {
  "anaconda-cloud": {},
  "kernelspec": {
   "display_name": "Python [Root]",
   "language": "python",
   "name": "Python [Root]"
  },
  "language_info": {
   "codemirror_mode": {
    "name": "ipython",
    "version": 3
   },
   "file_extension": ".py",
   "mimetype": "text/x-python",
   "name": "python",
   "nbconvert_exporter": "python",
   "pygments_lexer": "ipython3",
   "version": "3.5.2"
  }
 },
 "nbformat": 4,
 "nbformat_minor": 0
}
