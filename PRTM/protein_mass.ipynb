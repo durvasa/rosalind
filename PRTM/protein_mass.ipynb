{
 "cells": [
  {
   "cell_type": "markdown",
   "metadata": {},
   "source": [
    "# PRTM: Monoisotopic Protein Mass"
   ]
  },
  {
   "cell_type": "code",
   "execution_count": 20,
   "metadata": {
    "collapsed": true
   },
   "outputs": [],
   "source": [
    "import pandas as pd\n",
    "\n",
    "df = pd.read_csv('monoisotopic_mass.txt', sep='\\t', header=None, index_col=0)\n",
    "mass_dict = df.to_dict()[1]"
   ]
  },
  {
   "cell_type": "code",
   "execution_count": 21,
   "metadata": {
    "collapsed": true
   },
   "outputs": [],
   "source": [
    "s = 'SKADYEK'\n",
    "s = 'RVRCYYMCMTNTAMRPKWHRNLWPYNYCIDSDGNQHPGSCSTREYQHVPEIVIFHQMCWLNCKSHMLGQIRMCSQNIAIMWNAAVPTYQMRTADPQKMDQGYTWETWEFAQNEGKQKAPAAAHVTYKNEPEEMNETCAPDRDYPFVGSGQQHHQREENLDQPSYNWKKPIKCWQYENPADAYSCRGQVGGAPEQLSQTLMKGLGCDLTGKNSLMAADRHHVVEKRLCCNVQHTHQRTHIREWPWFQPYDIAPIEIRSNLRPNDCNQYDDRGSYEDQWNRHVELLEGSCLYFIFIKHDIIRWANEWLHHKQMCQHAKRRAFFYHNYKKCKKSFMGNWYIVYAALLRRKALTNCCRDNGVITHIMDTYNWNHHCFAHAMSTDCQELIAMENVKRQFVPKSQIDITDWIWLDIMHKWMLGQHNFGMYTPKESMTLNYAMELPCYMDHKRFNTAPSPASKAHGIENIKWADPHEAQRQGMSFDRKHDTLKMCECLNCWQYLSLEVMFFHNKFLVIIMSSIHMQMNWMYNVNPQKHYFFGWLTKVWIDNDAEHGPPTAHTESVDQCVVLQVIHSPPGWDPWTECGWTNKQWFVCSSTGTDNTMDKEMMVKFLHYYSLYWENNHFPCKFTLPWASAYPCMELCRDDDGVPGIYLFKQTKSAGNRNEPRQHDLKMMHLRIDYPDYRPETLLNVRATRVTHVMPCINNPRWFDVGNVYPIKVQKEFFRKKGGNFKYLWPYPADKGRHEAFHELVDDYCWSYFKKAAAVSESRYMPCCATMAHMNNSNSQPKNENIIGQSTDKWFPFTHDLTYHMDSMQDAECFANLIGMYYKWDSNFHWDMYDIIITAKFEDKSVNHRDVMLNTGKAWIPQYFKCIFRCG'"
   ]
  },
  {
   "cell_type": "code",
   "execution_count": 22,
   "metadata": {
    "collapsed": false
   },
   "outputs": [
    {
     "name": "stdout",
     "output_type": "stream",
     "text": [
      "103482.61475\n"
     ]
    }
   ],
   "source": [
    "mass = 0\n",
    "for char in s:\n",
    "    mass += mass_dict[char]\n",
    "print(mass)"
   ]
  }
 ],
 "metadata": {
  "anaconda-cloud": {},
  "kernelspec": {
   "display_name": "Python [Root]",
   "language": "python",
   "name": "Python [Root]"
  },
  "language_info": {
   "codemirror_mode": {
    "name": "ipython",
    "version": 3
   },
   "file_extension": ".py",
   "mimetype": "text/x-python",
   "name": "python",
   "nbconvert_exporter": "python",
   "pygments_lexer": "ipython3",
   "version": "3.5.2"
  }
 },
 "nbformat": 4,
 "nbformat_minor": 0
}
