{
 "cells": [
  {
   "cell_type": "markdown",
   "metadata": {},
   "source": [
    "# LGIS: Longest Increasing Subsequence"
   ]
  },
  {
   "cell_type": "code",
   "execution_count": 67,
   "metadata": {
    "collapsed": false
   },
   "outputs": [],
   "source": [
    "input_file = '/home/hanuman/docs/biomatics/rosalind/LGIS/input.txt'\n",
    "with open(input_file, 'rt') as f:\n",
    "    n = int(next(f).rstrip())\n",
    "    seq = list(map(int, next(f).rstrip().split()))"
   ]
  },
  {
   "cell_type": "markdown",
   "metadata": {},
   "source": [
    "## Load DirectedGraph class"
   ]
  },
  {
   "cell_type": "code",
   "execution_count": 24,
   "metadata": {
    "collapsed": true
   },
   "outputs": [],
   "source": [
    "class DirectedGraph(object):\n",
    "    \n",
    "    def __init__(self, seq):\n",
    "        self.graph_dict = {item: set() for item in seq}\n",
    "        \n",
    "    def add_edge(self, start, end):\n",
    "        self.graph_dict[start].add(end)\n",
    "                \n",
    "    def find_all_paths(self, start_label, end_label, path=[]):\n",
    "        graph = self.graph_dict\n",
    "        path = path + [start_label]\n",
    "        if start_label == end_label:\n",
    "            return [path]\n",
    "        if graph[start_label] == set():\n",
    "            return []\n",
    "        paths = []\n",
    "        for node in graph[start_label]:\n",
    "            if node not in path:\n",
    "                newpaths = self.find_all_paths(node, end_label, path)\n",
    "                for newpath in newpaths:\n",
    "                    paths.append(newpath)\n",
    "        return paths\n",
    "    \n",
    "    def maximal_paths_from(self, start, path=[]):\n",
    "        graph = self.graph_dict\n",
    "        path = path + [start]\n",
    "        if graph[start] == set():\n",
    "            return [path]\n",
    "        paths = []\n",
    "        for node in graph[start]:\n",
    "            new_paths = self.maximal_paths_from(node, path)\n",
    "            for new_path in new_paths:\n",
    "                paths.append(new_path)\n",
    "        return paths"
   ]
  },
  {
   "cell_type": "code",
   "execution_count": 64,
   "metadata": {
    "collapsed": false
   },
   "outputs": [],
   "source": [
    "def build_sequence_graph(seq):\n",
    "    n = len(seq)\n",
    "    graph_in = DirectedGraph(seq)\n",
    "    graph_de = DirectedGraph(seq)\n",
    "    for i in range(n):\n",
    "        for j in range(i+1, n):\n",
    "            a = seq[i]\n",
    "            b = seq[j]\n",
    "            if a < b:\n",
    "                graph_in.add_edge(a, b)\n",
    "            if a > b:\n",
    "                graph_de.add_edge(b, a)\n",
    "    return graph_in, graph_de\n",
    "\n",
    "def longest_subsequence_graph(seq, graph):\n",
    "    frontline = {j: 0 for j in seq}\n",
    "    for j in seq:\n",
    "        frontline[j] = max([frontline[j]] + [frontline[x] + 1 for x in frontline if j in graph[x]])\n",
    "    path = []\n",
    "    a = max(frontline, key=frontline.get)\n",
    "    b = frontline[a]\n",
    "    while b > 0:\n",
    "        path = [a] + path\n",
    "        a = [x for x in frontline if (a in graph[x]) and (frontline[x] == b - 1)].pop()\n",
    "        b = b - 1\n",
    "    return [a] + path\n",
    "\n",
    "def main(seq):\n",
    "    graph_in, graph_de = build_sequence_graph(seq)\n",
    "    s = longest_subsequence_graph(seq, graph_in.graph_dict)\n",
    "    print(' '.join(list(map(str, s))))\n",
    "    w = longest_subsequence_graph(seq[::-1], graph_de.graph_dict)\n",
    "    print(' '.join(list(map(str, w[::-1]))))"
   ]
  },
  {
   "cell_type": "code",
   "execution_count": 66,
   "metadata": {
    "collapsed": false
   },
   "outputs": [
    {
     "name": "stdout",
     "output_type": "stream",
     "text": [
      "1 2 3\n",
      "5 4 3\n"
     ]
    }
   ],
   "source": [
    "main([5,1,4,2,3])"
   ]
  },
  {
   "cell_type": "code",
   "execution_count": 68,
   "metadata": {
    "collapsed": false
   },
   "outputs": [
    {
     "name": "stdout",
     "output_type": "stream",
     "text": [
      "164 439 448 657 716 800 869 899 901 1188 1308 1345 1416 1487 1521 1576 1760 1771 1872 1882 1898 1932 1939 2091 2140 2174 2299 2313 2324 2423 2481 2525 2550 2568 2655 2761 2773 2843 2847 2850 2854 2896 2963 2995 2997 3004 3037 3068 3081 3106 3111 3137 3181 3185 3195 3243 3258 3344 3496 3505 3544 3551 3559 3601 3616 3662 3666 3676 3737 3749 3776 3847 3916 3978 4007 4017 4051 4127 4133 4178 4220 4256 4323 4458 4517 4518 4533 4600 4609 4626 4675 4702 4724 4765 4808 4819 4822 4846 4870 4880 4916 4925 4968 4998 5011 5052 5061 5096 5128 5174 5189 5214 5272 5327 5424 5535 5673 5762 5789 5841 5883 5931 5932 5989 6013 6044 6046 6047 6102 6252 6270 6355 6457 6497 6519 6541 6579 6606 6675 6692 6757 6815 6906 6925 6926 6951 6965 7034 7046 7099 7174 7190 7249 7319 7360 7368 7486 7544 7587 7609 7640 7657 7670 7692 7710 7730 7851 7914\n",
      "8196 8152 8147 8018 7960 7955 7949 7817 7789 7783 7706 7654 7644 7579 7551 7525 7505 7481 7365 7358 7339 7295 7231 7136 7074 6979 6967 6917 6827 6826 6604 6564 6436 6418 6416 6395 6337 6326 6296 6269 6267 6256 6169 6121 6106 6049 6036 5907 5796 5776 5676 5658 5633 5548 5544 5497 5444 5420 5318 5271 5109 5056 4991 4966 4877 4677 4658 4564 4465 4447 4366 4289 4225 4197 4193 4166 4129 4103 4084 4065 4057 4034 4001 3887 3873 3847 3732 3635 3623 3589 3574 3524 3521 3518 3448 3387 3330 3230 2892 2853 2851 2832 2789 2756 2702 2623 2622 2593 2586 2547 2462 2460 2417 2395 2358 2237 2157 2139 2124 2098 2072 1952 1847 1846 1798 1780 1744 1715 1560 1494 1484 1454 1434 1391 1389 1381 1338 1310 1309 1257 1193 1132 1108 1103 1099 1069 1049 968 926 907 814 734 706 682 668 642 627 554 519 516 504 490 458 443 441 397 384 371 325 314 312 272 266 263 259 207 156 60\n",
      "CPU times: user 54.6 s, sys: 384 ms, total: 55 s\n",
      "Wall time: 55 s\n"
     ]
    }
   ],
   "source": [
    "%%time\n",
    "main(seq)"
   ]
  }
 ],
 "metadata": {
  "anaconda-cloud": {},
  "kernelspec": {
   "display_name": "Python [Root]",
   "language": "python",
   "name": "Python [Root]"
  },
  "language_info": {
   "codemirror_mode": {
    "name": "ipython",
    "version": 3
   },
   "file_extension": ".py",
   "mimetype": "text/x-python",
   "name": "python",
   "nbconvert_exporter": "python",
   "pygments_lexer": "ipython3",
   "version": "3.5.2"
  }
 },
 "nbformat": 4,
 "nbformat_minor": 0
}
