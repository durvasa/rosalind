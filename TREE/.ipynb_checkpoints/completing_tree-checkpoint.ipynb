{
 "cells": [
  {
   "cell_type": "markdown",
   "metadata": {},
   "source": [
    "# TREE: Completing a Tree"
   ]
  },
  {
   "cell_type": "code",
   "execution_count": 31,
   "metadata": {
    "collapsed": true
   },
   "outputs": [],
   "source": [
    "myinput = '/home/hanuman/docs/biomatics/rosalind/TREE/input-test.txt'\n",
    "myinput = '/home/hanuman/docs/biomatics/rosalind/TREE/input-final.txt'"
   ]
  },
  {
   "cell_type": "code",
   "execution_count": 32,
   "metadata": {
    "collapsed": false
   },
   "outputs": [],
   "source": [
    "with open(myinput, 'rt') as f:\n",
    "    n = int(next(f).rstrip())\n",
    "    graph = {i+1: set() for i in range(n)}\n",
    "    for line in f:\n",
    "        edge = list(map(int, line.rstrip().split()))\n",
    "        graph[edge[0]].add(edge[1])\n",
    "        graph[edge[1]].add(edge[0])"
   ]
  },
  {
   "cell_type": "code",
   "execution_count": 33,
   "metadata": {
    "collapsed": true
   },
   "outputs": [],
   "source": [
    "def find_all_paths(graph, start, end, path=[]):\n",
    "    path = path + [start]\n",
    "    if start == end:\n",
    "        return [path]\n",
    "    if graph[start] == set():\n",
    "        return []\n",
    "    paths = []\n",
    "    for node in graph[start]:\n",
    "        if node not in path:\n",
    "            newpaths = find_all_paths(graph, node, end, path)\n",
    "            for newpath in newpaths:\n",
    "                paths.append(newpath)\n",
    "    return paths\n",
    "\n",
    "def edges_to_complete_tree(graph):\n",
    "    n = len(graph)\n",
    "    visited = set()\n",
    "    edge_count = 0\n",
    "    while len(visited) < n:\n",
    "        for i in range(n):\n",
    "            if i+1 not in visited:\n",
    "                a = i+1\n",
    "        if visited != set():\n",
    "            b = next(iter(visited))\n",
    "            graph[a].add(b)\n",
    "            graph[b].add(a)\n",
    "            edge_count += 1\n",
    "        paths = []\n",
    "        for i in range(n):\n",
    "            paths += find_all_paths(graph, a, i+1)\n",
    "        for path in paths:\n",
    "            for node in path:\n",
    "                visited.add(node)\n",
    "    return edge_count"
   ]
  },
  {
   "cell_type": "code",
   "execution_count": 34,
   "metadata": {
    "collapsed": false
   },
   "outputs": [
    {
     "data": {
      "text/plain": [
       "61"
      ]
     },
     "execution_count": 34,
     "metadata": {},
     "output_type": "execute_result"
    }
   ],
   "source": [
    "with open(myinput, 'rt') as f:\n",
    "    n = int(next(f).rstrip())\n",
    "    graph = {i+1: set() for i in range(n)}\n",
    "    for line in f:\n",
    "        edge = list(map(int, line.rstrip().split()))\n",
    "        graph[edge[0]].add(edge[1])\n",
    "        graph[edge[1]].add(edge[0])\n",
    "edges_to_complete_tree(graph)"
   ]
  }
 ],
 "metadata": {
  "kernelspec": {
   "display_name": "Python [Root]",
   "language": "python",
   "name": "Python [Root]"
  },
  "language_info": {
   "codemirror_mode": {
    "name": "ipython",
    "version": 3
   },
   "file_extension": ".py",
   "mimetype": "text/x-python",
   "name": "python",
   "nbconvert_exporter": "python",
   "pygments_lexer": "ipython3",
   "version": "3.5.2"
  }
 },
 "nbformat": 4,
 "nbformat_minor": 0
}
