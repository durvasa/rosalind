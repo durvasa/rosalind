{
 "cells": [
  {
   "cell_type": "markdown",
   "metadata": {},
   "source": [
    "# SSEQ: Subsequences and Spliced Motifs"
   ]
  },
  {
   "cell_type": "code",
   "execution_count": 111,
   "metadata": {
    "collapsed": true
   },
   "outputs": [],
   "source": [
    "input_file = '/home/hanuman/docs/biomatics/rosalind/SSEQ/input_1.txt'\n",
    "input_file = '/home/hanuman/docs/biomatics/rosalind/SSEQ/input_2.txt'"
   ]
  },
  {
   "cell_type": "markdown",
   "metadata": {},
   "source": [
    "## FASTA parser"
   ]
  },
  {
   "cell_type": "code",
   "execution_count": 112,
   "metadata": {
    "collapsed": true
   },
   "outputs": [],
   "source": [
    "def FASTA_iterator(fasta_filename):\n",
    "\n",
    "    \"\"\"\n",
    "    A generator function that reads a FASTA file. At each iteration, the\n",
    "    function must return a tuple with the format (identifier, sequence).\n",
    "    \"\"\"\n",
    "\n",
    "    with open(fasta_filename, 'rt') as fasta:\n",
    "        sequence = ''\n",
    "        identifier = ''\n",
    "        my_list = []\n",
    "        for line in fasta:\n",
    "            if (line[0] == '>'):\n",
    "                if (sequence != ''):\n",
    "                    my_tuple = (identifier, sequence)\n",
    "                    yield(my_tuple)\n",
    "                    identifier= ''\n",
    "                    sequence= ''\n",
    "                identifier = line[1:].strip()\n",
    "            else:\n",
    "                sequence += line.strip()\n",
    "        my_tuple = (identifier, sequence)\n",
    "        yield(my_tuple)"
   ]
  },
  {
   "cell_type": "markdown",
   "metadata": {},
   "source": [
    "## The following code is suited for an exhaustive search (far beyond the goal of the problem)"
   ]
  },
  {
   "cell_type": "code",
   "execution_count": 113,
   "metadata": {
    "collapsed": true
   },
   "outputs": [],
   "source": [
    "def subind(sub, seq):\n",
    "    positions = [[] for j in range(len(sub))]\n",
    "    indices = list(enumerate(seq))\n",
    "    for j in range(len(positions)):\n",
    "        w = [i for i, v in indices if sub[j] == v]\n",
    "        positions[j] += w\n",
    "    return positions\n",
    "\n",
    "def sorted_selection_exhaustive(index_list):\n",
    "    outcome = []\n",
    "    queue = [[]]\n",
    "    while len(queue) > 0:\n",
    "        w = queue.pop(0)\n",
    "        k = len(w)\n",
    "        if k > len(index_list) - 1:\n",
    "            outcome.append(w)\n",
    "        else:\n",
    "            for i in index_list[k]:\n",
    "                if w == [] or (i > w[-1]):\n",
    "                    queue.append(w + [i])\n",
    "    return outcome\n",
    "\n",
    "def sorted_selection_depth(index_list):\n",
    "    queue = [[]]\n",
    "    while len(queue) > 0:\n",
    "        w = queue.pop()\n",
    "        k = len(w)\n",
    "        if k > len(index_list) - 1:\n",
    "            return w\n",
    "        else:\n",
    "            for i in index_list[k]:\n",
    "                if w == [] or (i > w[-1]):\n",
    "                    queue.append(w + [i])"
   ]
  },
  {
   "cell_type": "markdown",
   "metadata": {},
   "source": [
    "## The following code is a swift algorithm to find just any suitable index subset"
   ]
  },
  {
   "cell_type": "code",
   "execution_count": 114,
   "metadata": {
    "collapsed": true
   },
   "outputs": [],
   "source": [
    "def submotif(sub, seq):\n",
    "    j = 0\n",
    "    m = len(sub)\n",
    "    outcome = []\n",
    "    indices = enumerate(seq)\n",
    "    for i, v in indices:\n",
    "        if j < m:\n",
    "            if v == sub[j]:\n",
    "                outcome.append(i)\n",
    "                j += 1\n",
    "    return outcome"
   ]
  },
  {
   "cell_type": "markdown",
   "metadata": {},
   "source": [
    "## Main"
   ]
  },
  {
   "cell_type": "code",
   "execution_count": 116,
   "metadata": {
    "collapsed": false
   },
   "outputs": [],
   "source": [
    "def spliced_motifs(input_file, function):\n",
    "    g = FASTA_iterator(input_file)\n",
    "    seq = next(g)[1]\n",
    "    sub = next(g)[1]\n",
    "    w = function(sub, seq)\n",
    "    w = [i+1 for i in w]\n",
    "    w = list(map(str, w))\n",
    "    print(' '.join(w))"
   ]
  },
  {
   "cell_type": "code",
   "execution_count": 117,
   "metadata": {
    "collapsed": false
   },
   "outputs": [
    {
     "name": "stdout",
     "output_type": "stream",
     "text": [
      "1 6 7 12 16 26 41 42 43 44 46 53 64 68 69 72 84 85 87 89 94 114 118 121 122 124 126 128 132 133 135 136 139 141 142 146 153 157 159 164 168 187 188 195 196 204 211 213 217 218 219 222 227 228 229 234 239 247 248 250 257 262 266 268 269 270 280 282 284 286 290 292 296 301 304 319 331 334 336 337 338 341 344 349 351 352 368 371 372 375 378 382\n"
     ]
    }
   ],
   "source": [
    "spliced_motifs(input_file, submotif)"
   ]
  }
 ],
 "metadata": {
  "kernelspec": {
   "display_name": "Python [Root]",
   "language": "python",
   "name": "Python [Root]"
  },
  "language_info": {
   "codemirror_mode": {
    "name": "ipython",
    "version": 3
   },
   "file_extension": ".py",
   "mimetype": "text/x-python",
   "name": "python",
   "nbconvert_exporter": "python",
   "pygments_lexer": "ipython3",
   "version": "3.5.2"
  }
 },
 "nbformat": 4,
 "nbformat_minor": 0
}
