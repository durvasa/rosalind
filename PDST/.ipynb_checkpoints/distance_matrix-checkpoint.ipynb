{
 "cells": [
  {
   "cell_type": "markdown",
   "metadata": {},
   "source": [
    "# PDST: Distance Matrix"
   ]
  },
  {
   "cell_type": "code",
   "execution_count": 14,
   "metadata": {
    "collapsed": true
   },
   "outputs": [],
   "source": [
    "input_file = '/home/hanuman/docs/biomatics/rosalind/PDST/input.txt'"
   ]
  },
  {
   "cell_type": "code",
   "execution_count": 15,
   "metadata": {
    "collapsed": true
   },
   "outputs": [],
   "source": [
    "def FASTA_iterator(fasta_filename):\n",
    "\n",
    "    \"\"\"\n",
    "    A generator function that reads a FASTA file. At each iteration, the\n",
    "    function must return a tuple with the format (identifier, sequence).\n",
    "    \"\"\"\n",
    "\n",
    "    with open(fasta_filename, 'rt') as fasta:\n",
    "        sequence = ''\n",
    "        identifier = ''\n",
    "        my_list = []\n",
    "        for line in fasta:\n",
    "            if (line[0] == '>'):\n",
    "                if (sequence != ''):\n",
    "                    my_tuple = (identifier, sequence)\n",
    "                    yield(my_tuple)\n",
    "                    identifier= ''\n",
    "                    sequence= ''\n",
    "                identifier = line[1:].strip()\n",
    "            else:\n",
    "                sequence += line.strip()\n",
    "        my_tuple = (identifier, sequence)\n",
    "        yield(my_tuple)\n"
   ]
  },
  {
   "cell_type": "code",
   "execution_count": 16,
   "metadata": {
    "collapsed": false
   },
   "outputs": [],
   "source": [
    "import numpy as np\n",
    "\n",
    "def distance(s1, s2):\n",
    "    counter = 0\n",
    "    n = len(s1)\n",
    "    for i in range(n):\n",
    "        if s1[i] != s2[i]:\n",
    "            counter += 1\n",
    "    return counter / n\n",
    "\n",
    "def distance_matrix(input_file):\n",
    "    l = []\n",
    "    for item in FASTA_iterator(input_file):\n",
    "        l.append(item[1])\n",
    "    n = len(l)\n",
    "    matrix = np.zeros([n,n])\n",
    "    for i in range(n):\n",
    "        for j in range(n):\n",
    "            if j >= i:\n",
    "                matrix[i, j] = distance(l[i], l[j])\n",
    "                matrix[j, i] = matrix[i, j]\n",
    "    for i in range(n):\n",
    "        a = ''\n",
    "        for j in range(n):\n",
    "            a += ' ' + str(matrix[i, j])\n",
    "        print(a)"
   ]
  },
  {
   "cell_type": "code",
   "execution_count": 17,
   "metadata": {
    "collapsed": false
   },
   "outputs": [
    {
     "name": "stdout",
     "output_type": "stream",
     "text": [
      " 0.0 0.470944309927 0.309927360775 0.687651331719 0.646489104116 0.483050847458 0.640435835351 0.56416464891\n",
      " 0.470944309927 0.0 0.307506053269 0.578692493947 0.469733656174 0.484261501211 0.504842615012 0.311138014528\n",
      " 0.309927360775 0.307506053269 0.0 0.634382566586 0.570217917676 0.318401937046 0.590799031477 0.485472154964\n",
      " 0.687651331719 0.578692493947 0.634382566586 0.0 0.59200968523 0.661016949153 0.331719128329 0.484261501211\n",
      " 0.646489104116 0.469733656174 0.570217917676 0.59200968523 0.0 0.625907990315 0.493946731235 0.32808716707\n",
      " 0.483050847458 0.484261501211 0.318401937046 0.661016949153 0.625907990315 0.0 0.641646489104 0.587167070218\n",
      " 0.640435835351 0.504842615012 0.590799031477 0.331719128329 0.493946731235 0.641646489104 0.0 0.313559322034\n",
      " 0.56416464891 0.311138014528 0.485472154964 0.484261501211 0.32808716707 0.587167070218 0.313559322034 0.0\n"
     ]
    }
   ],
   "source": [
    "distance_matrix(input_file)"
   ]
  }
 ],
 "metadata": {
  "anaconda-cloud": {},
  "kernelspec": {
   "display_name": "Python [Root]",
   "language": "python",
   "name": "Python [Root]"
  },
  "language_info": {
   "codemirror_mode": {
    "name": "ipython",
    "version": 3
   },
   "file_extension": ".py",
   "mimetype": "text/x-python",
   "name": "python",
   "nbconvert_exporter": "python",
   "pygments_lexer": "ipython3",
   "version": "3.5.2"
  }
 },
 "nbformat": 4,
 "nbformat_minor": 0
}
