{
 "cells": [
  {
   "cell_type": "markdown",
   "metadata": {},
   "source": [
    "# RNA Strings and Perfect Matchings"
   ]
  },
  {
   "cell_type": "code",
   "execution_count": 33,
   "metadata": {
    "collapsed": true
   },
   "outputs": [],
   "source": [
    "s = 'AGCUAGUCAU'"
   ]
  },
  {
   "cell_type": "code",
   "execution_count": 34,
   "metadata": {
    "collapsed": true
   },
   "outputs": [],
   "source": [
    "cb = {'A': 'U', 'C': 'G', 'G': 'C', 'U': 'A'}\n",
    "\n",
    "def perfect_matchings(s):\n",
    "    n = len(s)\n",
    "    if n == 2:\n",
    "        return 1\n",
    "    else:\n",
    "        result = 0\n",
    "        for i in range(n-1):\n",
    "            if s[i+1] == cb[s[0]]:\n",
    "                result += perfect_matchings(s[1:i+1] + s[i+2:])\n",
    "    return result"
   ]
  },
  {
   "cell_type": "code",
   "execution_count": 35,
   "metadata": {
    "collapsed": false
   },
   "outputs": [
    {
     "name": "stdout",
     "output_type": "stream",
     "text": [
      "CPU times: user 62.5 ms, sys: 0 ns, total: 62.5 ms\n",
      "Wall time: 61.4 ms\n"
     ]
    },
    {
     "data": {
      "text/plain": [
       "17280"
      ]
     },
     "execution_count": 35,
     "metadata": {},
     "output_type": "execute_result"
    }
   ],
   "source": [
    "%%time\n",
    "perfect_matchings(s)"
   ]
  },
  {
   "cell_type": "markdown",
   "metadata": {},
   "source": [
    "## This \"brute force\" approach shall be refined..."
   ]
  },
  {
   "cell_type": "code",
   "execution_count": 39,
   "metadata": {
    "collapsed": false
   },
   "outputs": [],
   "source": [
    "import math\n",
    "\n",
    "def count_perfect_matchings(s):\n",
    "    n = len(s)\n",
    "    p = 0\n",
    "    for i in range(n):\n",
    "        if s[i] == 'A':\n",
    "            p += 1\n",
    "    q = (n - 2*p) // 2\n",
    "    return math.factorial(p) * math.factorial(q)"
   ]
  },
  {
   "cell_type": "code",
   "execution_count": 40,
   "metadata": {
    "collapsed": false
   },
   "outputs": [
    {
     "data": {
      "text/plain": [
       "17280"
      ]
     },
     "execution_count": 40,
     "metadata": {},
     "output_type": "execute_result"
    }
   ],
   "source": [
    "count_perfect_matchings(s)"
   ]
  },
  {
   "cell_type": "code",
   "execution_count": 41,
   "metadata": {
    "collapsed": false
   },
   "outputs": [
    {
     "data": {
      "text/plain": [
       "9195237344948738535854639677440000000"
      ]
     },
     "execution_count": 41,
     "metadata": {},
     "output_type": "execute_result"
    }
   ],
   "source": [
    "w = 'AUAAUAGGGUUGCGGCCUCGGAUUGGGGAGCCAGAACGUGCCGCGUCCUGUCACAUCCGCACUAUGUUCUAACGACAGCC'\n",
    "count_perfect_matchings(w)"
   ]
  }
 ],
 "metadata": {
  "kernelspec": {
   "display_name": "Python [Root]",
   "language": "python",
   "name": "Python [Root]"
  },
  "language_info": {
   "codemirror_mode": {
    "name": "ipython",
    "version": 3
   },
   "file_extension": ".py",
   "mimetype": "text/x-python",
   "name": "python",
   "nbconvert_exporter": "python",
   "pygments_lexer": "ipython3",
   "version": "3.5.2"
  }
 },
 "nbformat": 4,
 "nbformat_minor": 0
}
