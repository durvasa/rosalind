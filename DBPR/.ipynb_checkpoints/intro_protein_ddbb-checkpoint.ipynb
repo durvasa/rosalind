{
 "cells": [
  {
   "cell_type": "markdown",
   "metadata": {},
   "source": [
    "# DBPR: Protein Databases"
   ]
  },
  {
   "cell_type": "code",
   "execution_count": 27,
   "metadata": {
    "collapsed": true
   },
   "outputs": [],
   "source": [
    "from Bio import ExPASy\n",
    "from Bio import SwissProt\n",
    "\n",
    "def retrieve_cross_references(uniprot_id):\n",
    "    handle = ExPASy.get_sprot_raw(uniprot_id)\n",
    "    record = SwissProt.read(handle) # use SwissProt.parse for multiple proteins\n",
    "    return record.cross_references\n",
    "\n",
    "def retrieve_GO_terms(uniprot_id):\n",
    "    crs = retrieve_cross_references(uniprot_id)\n",
    "    go_terms = []\n",
    "    for item in crs:\n",
    "        if item[0] == 'GO':\n",
    "            if item[2][:2] == 'P:':\n",
    "                go_terms.append(item[2][2:])\n",
    "    print('\\n'.join(go_terms))"
   ]
  },
  {
   "cell_type": "code",
   "execution_count": 28,
   "metadata": {
    "collapsed": false
   },
   "outputs": [
    {
     "name": "stdout",
     "output_type": "stream",
     "text": [
      "DNA recombination\n",
      "DNA repair\n",
      "DNA replication\n"
     ]
    }
   ],
   "source": [
    "uniprot_id = 'Q5SLP9'\n",
    "retrieve_GO_terms(uniprot_id)"
   ]
  },
  {
   "cell_type": "code",
   "execution_count": 30,
   "metadata": {
    "collapsed": false
   },
   "outputs": [
    {
     "name": "stdout",
     "output_type": "stream",
     "text": [
      "gluconeogenesis\n",
      "glycolytic process\n"
     ]
    }
   ],
   "source": [
    "uniprot_id = 'Q9X670'\n",
    "retrieve_GO_terms(uniprot_id)"
   ]
  }
 ],
 "metadata": {
  "anaconda-cloud": {},
  "kernelspec": {
   "display_name": "Python [Root]",
   "language": "python",
   "name": "Python [Root]"
  },
  "language_info": {
   "codemirror_mode": {
    "name": "ipython",
    "version": 3
   },
   "file_extension": ".py",
   "mimetype": "text/x-python",
   "name": "python",
   "nbconvert_exporter": "python",
   "pygments_lexer": "ipython3",
   "version": "3.5.2"
  }
 },
 "nbformat": 4,
 "nbformat_minor": 0
}
