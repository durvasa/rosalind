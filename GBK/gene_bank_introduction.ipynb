{
 "cells": [
  {
   "cell_type": "markdown",
   "metadata": {},
   "source": [
    "# GBK: Gene Bank Introduction"
   ]
  },
  {
   "cell_type": "code",
   "execution_count": 11,
   "metadata": {
    "collapsed": false
   },
   "outputs": [],
   "source": [
    "from Bio import Entrez\n",
    "\n",
    "def query_genus_dates(genus, mindate, maxdate):\n",
    "    Entrez.email = \"ferran.muinos@irbbarcelona.org\"\n",
    "    handle = Entrez.esearch(db=\"nucleotide\", term= '\"' + genus + '\"[Organism] AND ' + mindate + ':' + maxdate + '[Publication Date]')\n",
    "    record = Entrez.read(handle)\n",
    "    return record['Count']"
   ]
  },
  {
   "cell_type": "code",
   "execution_count": 13,
   "metadata": {
    "collapsed": false
   },
   "outputs": [
    {
     "data": {
      "text/plain": [
       "'23'"
      ]
     },
     "execution_count": 13,
     "metadata": {},
     "output_type": "execute_result"
    }
   ],
   "source": [
    "input_file = '/home/hanuman/docs/biomatics/rosalind/GBK/input.txt'\n",
    "with open(input_file) as f:\n",
    "    genus = next(f).rstrip()\n",
    "    mindate = next(f).rstrip()\n",
    "    maxdate = next(f).rstrip()\n",
    "query_genus_dates(genus, mindate, maxdate)"
   ]
  }
 ],
 "metadata": {
  "kernelspec": {
   "display_name": "Python [Root]",
   "language": "python",
   "name": "Python [Root]"
  },
  "language_info": {
   "codemirror_mode": {
    "name": "ipython",
    "version": 3
   },
   "file_extension": ".py",
   "mimetype": "text/x-python",
   "name": "python",
   "nbconvert_exporter": "python",
   "pygments_lexer": "ipython3",
   "version": "3.5.2"
  }
 },
 "nbformat": 4,
 "nbformat_minor": 0
}
