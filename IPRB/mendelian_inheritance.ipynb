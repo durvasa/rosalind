{
 "cells": [
  {
   "cell_type": "code",
   "execution_count": 15,
   "metadata": {
    "collapsed": false
   },
   "outputs": [],
   "source": [
    "k = 22\n",
    "m = 18\n",
    "n = 26"
   ]
  },
  {
   "cell_type": "code",
   "execution_count": 16,
   "metadata": {
    "collapsed": false
   },
   "outputs": [
    {
     "name": "stdout",
     "output_type": "stream",
     "text": [
      "0.7215617715617716\n"
     ]
    }
   ],
   "source": [
    "def binomialCoeff(n, k):\n",
    "    result = 1\n",
    "    for i in range(1, k + 1):\n",
    "        result = result * (n-i+1) / i\n",
    "    return result\n",
    "\n",
    "N = binomialCoeff(k + m + n, 2)\n",
    "homo = binomialCoeff(n, 2)\n",
    "hetero = binomialCoeff(m, 2)\n",
    "mixed = binomialCoeff(m + n, 2) - binomialCoeff(m, 2) - binomialCoeff(n, 2)\n",
    "result = 1 - (mixed / N) * 0.5 - (homo / N) - (hetero / N) * 0.25\n",
    "print(result)"
   ]
  },
  {
   "cell_type": "code",
   "execution_count": null,
   "metadata": {
    "collapsed": false
   },
   "outputs": [],
   "source": []
  }
 ],
 "metadata": {
  "kernelspec": {
   "display_name": "Python [Root]",
   "language": "python",
   "name": "Python [Root]"
  },
  "language_info": {
   "codemirror_mode": {
    "name": "ipython",
    "version": 3
   },
   "file_extension": ".py",
   "mimetype": "text/x-python",
   "name": "python",
   "nbconvert_exporter": "python",
   "pygments_lexer": "ipython3",
   "version": "3.5.2"
  }
 },
 "nbformat": 4,
 "nbformat_minor": 0
}
