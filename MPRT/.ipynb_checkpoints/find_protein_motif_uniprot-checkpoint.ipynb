{
 "cells": [
  {
   "cell_type": "markdown",
   "metadata": {},
   "source": [
    "# MPRT: Find Protein Motifs in Uniprot"
   ]
  },
  {
   "cell_type": "code",
   "execution_count": 108,
   "metadata": {
    "collapsed": true
   },
   "outputs": [],
   "source": [
    "import requests\n",
    "\n",
    "myinput = '/home/hanuman/docs/biomatics/rosalind/MPRT/input-test.txt'\n",
    "myinput = '/home/hanuman/docs/biomatics/rosalind/MPRT/input-final.txt'\n",
    "fasta_file = '/home/hanuman/docs/biomatics/rosalind/MPRT/protein.fasta'"
   ]
  },
  {
   "cell_type": "code",
   "execution_count": 109,
   "metadata": {
    "collapsed": true
   },
   "outputs": [],
   "source": [
    "def FASTA_iterator(fasta_filename):\n",
    "\n",
    "    \"\"\"\n",
    "    A generator function that reads a FASTA file. At each iteration, the\n",
    "    function must return a tuple with the format (identifier, sequence).\n",
    "    \"\"\"\n",
    "\n",
    "    with open(fasta_filename, 'rt') as fasta:\n",
    "        sequence = ''\n",
    "        identifier = ''\n",
    "        my_list = []\n",
    "        for line in fasta:\n",
    "            if (line[0] == '>'):\n",
    "                if (sequence != ''):\n",
    "                    my_tuple = (identifier, sequence)\n",
    "                    yield(my_tuple)\n",
    "                    identifier= ''\n",
    "                    sequence= ''\n",
    "                identifier = line[1:].strip()\n",
    "            else:\n",
    "                sequence += line.strip()\n",
    "        my_tuple = (identifier, sequence)\n",
    "        yield(my_tuple)"
   ]
  },
  {
   "cell_type": "code",
   "execution_count": 110,
   "metadata": {
    "collapsed": false
   },
   "outputs": [],
   "source": [
    "uniprot_list = []\n",
    "with open(myinput, 'rt') as f:\n",
    "    with open(fasta_file, 'wt') as fasta:\n",
    "        for line in f:\n",
    "            uniprot_id = line.rstrip()\n",
    "            uniprot_list.append(uniprot_id)\n",
    "            r = requests.get('http://www.uniprot.org/uniprot/' + uniprot_id + '.fasta')\n",
    "            s = str(r.content, 'utf-8')\n",
    "            fasta.write(s)\n",
    "fasta_dict = {}\n",
    "for item in FASTA_iterator(fasta_file):\n",
    "    uniprot_id = uniprot_list.pop(0)\n",
    "    fasta_dict[uniprot_id] = item[1]"
   ]
  },
  {
   "cell_type": "markdown",
   "metadata": {},
   "source": [
    "### N-glycosylation motif is written as N{P}[ST]{P}."
   ]
  },
  {
   "cell_type": "code",
   "execution_count": 111,
   "metadata": {
    "collapsed": false
   },
   "outputs": [],
   "source": [
    "import re\n",
    "n_glycosylation = re.compile('N[^P]{1}(S|T)[^P]{1}')"
   ]
  },
  {
   "cell_type": "code",
   "execution_count": 112,
   "metadata": {
    "collapsed": true
   },
   "outputs": [],
   "source": [
    "output_file = '/home/hanuman/docs/biomatics/rosalind/MPRT/output.txt'"
   ]
  },
  {
   "cell_type": "code",
   "execution_count": 113,
   "metadata": {
    "collapsed": false
   },
   "outputs": [],
   "source": [
    "with open(output_file, 'wt') as output:\n",
    "    for key in fasta_dict:\n",
    "        s = fasta_dict[key]\n",
    "        occurrences = []\n",
    "        for i in range(len(s) - 4):\n",
    "            w = s[i:i+4]\n",
    "            for m in n_glycosylation.finditer(w):\n",
    "                occurrences.append(str(i + 1))\n",
    "        if occurrences == []:\n",
    "            continue\n",
    "        else:\n",
    "            output.write(key + '\\n')\n",
    "            output.write(' '.join(occurrences))\n",
    "            output.write('\\n') "
   ]
  }
 ],
 "metadata": {
  "anaconda-cloud": {},
  "kernelspec": {
   "display_name": "Python [Root]",
   "language": "python",
   "name": "Python [Root]"
  },
  "language_info": {
   "codemirror_mode": {
    "name": "ipython",
    "version": 3
   },
   "file_extension": ".py",
   "mimetype": "text/x-python",
   "name": "python",
   "nbconvert_exporter": "python",
   "pygments_lexer": "ipython3",
   "version": "3.5.2"
  }
 },
 "nbformat": 4,
 "nbformat_minor": 0
}
