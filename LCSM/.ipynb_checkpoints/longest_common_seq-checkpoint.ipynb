{
 "cells": [
  {
   "cell_type": "markdown",
   "metadata": {},
   "source": [
    "# LCSM: Longest Common Sequence"
   ]
  },
  {
   "cell_type": "code",
   "execution_count": 1,
   "metadata": {
    "collapsed": true
   },
   "outputs": [],
   "source": [
    "def FASTA_iterator(fasta_filename):\n",
    "\n",
    "    \"\"\"\n",
    "    A generator function that reads a FASTA file. At each iteration, the\n",
    "    function must return a tuple with the format (identifier, sequence).\n",
    "    \"\"\"\n",
    "\n",
    "    with open(fasta_filename, 'rt') as fasta:\n",
    "        sequence = ''\n",
    "        identifier = ''\n",
    "        my_list = []\n",
    "        for line in fasta:\n",
    "            if (line[0] == '>'):\n",
    "                if (sequence != ''):\n",
    "                    my_tuple = (identifier, sequence)\n",
    "                    yield(my_tuple)\n",
    "                    identifier= ''\n",
    "                    sequence= ''\n",
    "                identifier = line[1:].strip()\n",
    "            else:\n",
    "                sequence += line.strip()\n",
    "        my_tuple = (identifier, sequence)\n",
    "        yield(my_tuple)"
   ]
  },
  {
   "cell_type": "code",
   "execution_count": 16,
   "metadata": {
    "collapsed": true
   },
   "outputs": [],
   "source": [
    "myinput = '/home/hanuman/docs/biomatics/rosalind/LCSM/input-test.txt'\n",
    "myinput = '/home/hanuman/docs/biomatics/rosalind/LCSM/input-final.txt'"
   ]
  },
  {
   "cell_type": "code",
   "execution_count": 55,
   "metadata": {
    "collapsed": true
   },
   "outputs": [],
   "source": [
    "def longest_common_two(s1, s2):\n",
    "    n = len(s1)\n",
    "    m = len(s2)\n",
    "    r = min(n, m)\n",
    "    common = []\n",
    "    for i in range(r):\n",
    "        for j in range(n-i):\n",
    "            a = s1[j:j+i+1] \n",
    "            if a in s2:\n",
    "                common.append(a)\n",
    "    sorted_common = sorted(common, key=lambda t: len(t))\n",
    "    longest = []\n",
    "    k = len(sorted_common[-1])\n",
    "    s = sorted_common.pop()\n",
    "    while len(s) >= k:\n",
    "        longest.append(s)\n",
    "        s = sorted_common.pop()\n",
    "    return longest"
   ]
  },
  {
   "cell_type": "code",
   "execution_count": 58,
   "metadata": {
    "collapsed": false
   },
   "outputs": [
    {
     "data": {
      "text/plain": [
       "['baba', 'abab']"
      ]
     },
     "execution_count": 58,
     "metadata": {},
     "output_type": "execute_result"
    }
   ],
   "source": [
    "longest_common_two('ababa', 'babab')"
   ]
  },
  {
   "cell_type": "code",
   "execution_count": 12,
   "metadata": {
    "collapsed": false
   },
   "outputs": [],
   "source": [
    "def find_shortest(myinput):\n",
    "    g = FASTA_iterator(myinput)\n",
    "    ref = next(g)[1]\n",
    "    length = len(ref)\n",
    "    for item in g:\n",
    "        if len(item) < length:\n",
    "            ref = item[1]\n",
    "            length = len(ref)\n",
    "    return ref\n",
    "\n",
    "def longest_common(myinput):\n",
    "    ref = find_shortest(myinput)\n",
    "    r = len(ref)\n",
    "    common = []\n",
    "    for i in range(r):\n",
    "        for j in range(r-i):\n",
    "            a = ref[j:j+i+1]\n",
    "            subseq = True\n",
    "            for item in FASTA_iterator(myinput):\n",
    "                if a not in item[1]:\n",
    "                    subseq = False\n",
    "                    break\n",
    "            if subseq:\n",
    "                common.append(a)\n",
    "    sorted_common = sorted(common, key=lambda t: len(t))\n",
    "    longest = []\n",
    "    k = len(sorted_common[-1])\n",
    "    s = sorted_common.pop()\n",
    "    while len(s) >= k:\n",
    "        longest.append(s)\n",
    "        s = sorted_common.pop()\n",
    "    return next(iter(set(longest)))"
   ]
  },
  {
   "cell_type": "code",
   "execution_count": 17,
   "metadata": {
    "collapsed": false
   },
   "outputs": [
    {
     "name": "stdout",
     "output_type": "stream",
     "text": [
      "CPU times: user 48.6 s, sys: 2.64 s, total: 51.2 s\n",
      "Wall time: 51.3 s\n"
     ]
    },
    {
     "data": {
      "text/plain": [
       "'TAGGGGACCCTTAATGACATAACGCATTCTCCTCACAGCTCCTTTGACCGCAGAAATATAGATCGGTCTTAAGACGGCGGGACTTTATAGCTTTAGTTAGCCTGATTAATCGTATATGGACTGTCTTAAGTTGCCCCCTCCAATGCCTAAGGGACCACGCTGCAAGTCGCGTTTCCCTTTCCGAGATGCTCTTCTGGCACGTGCGATCAGGTTGGCCGGGAAATCGGACGCGCCTAACC'"
      ]
     },
     "execution_count": 17,
     "metadata": {},
     "output_type": "execute_result"
    }
   ],
   "source": [
    "%%time\n",
    "longest_common(myinput)"
   ]
  }
 ],
 "metadata": {
  "anaconda-cloud": {},
  "kernelspec": {
   "display_name": "Python [Root]",
   "language": "python",
   "name": "Python [Root]"
  },
  "language_info": {
   "codemirror_mode": {
    "name": "ipython",
    "version": 3
   },
   "file_extension": ".py",
   "mimetype": "text/x-python",
   "name": "python",
   "nbconvert_exporter": "python",
   "pygments_lexer": "ipython3",
   "version": "3.5.2"
  }
 },
 "nbformat": 4,
 "nbformat_minor": 0
}
